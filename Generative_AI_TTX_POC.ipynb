{
  "cells": [
    {
      "attachments": {},
      "cell_type": "markdown",
      "id": "4c517d8b",
      "metadata": {
        "id": "4c517d8b"
      },
      "source": [
        "# Generative AI TTX POC\n",
        "For this project , we will be looking at using a Playbook to \"build\" a table-top exercise (TTX) for clients to have self-directed practices for their TTX.\n",
        "\n",
        "**Steps:**\n",
        "1. We will open the PDF Playbook and convert them into usable string.\n",
        "2. We will instantiate a GPT model\n",
        "3. Users will be prompted with a scenario and they will have to answer a question for each injects.\n",
        "4. Using the inputs, we will send it to GPT to evaluate the results."
      ]
    },
    {
      "attachments": {},
      "cell_type": "markdown",
      "id": "iD4X876is9wp",
      "metadata": {
        "id": "iD4X876is9wp"
      },
      "source": [
        "## 1. Install & Import\n",
        "We will be installing and importing the libraries we will be using."
      ]
    },
    {
      "cell_type": "code",
      "execution_count": null,
      "id": "16eaf42e",
      "metadata": {
        "colab": {
          "base_uri": "https://localhost:8080/"
        },
        "id": "16eaf42e",
        "outputId": "e430abc4-2904-40a6-efa9-fe8510411f62"
      },
      "outputs": [
        {
          "name": "stdout",
          "output_type": "stream",
          "text": [
            "Looking in indexes: https://pypi.org/simple, https://us-python.pkg.dev/colab-wheels/public/simple/\n",
            "Requirement already satisfied: PyPDF2 in /usr/local/lib/python3.10/dist-packages (3.0.1)\n",
            "Looking in indexes: https://pypi.org/simple, https://us-python.pkg.dev/colab-wheels/public/simple/\n",
            "Collecting openai\n",
            "  Downloading openai-0.27.8-py3-none-any.whl (73 kB)\n",
            "\u001b[2K     \u001b[90m━━━━━━━━━━━━━━━━━━━━━━━━━━━━━━━━━━━━━━━━\u001b[0m \u001b[32m73.6/73.6 kB\u001b[0m \u001b[31m5.2 MB/s\u001b[0m eta \u001b[36m0:00:00\u001b[0m\n",
            "\u001b[?25hRequirement already satisfied: requests>=2.20 in /usr/local/lib/python3.10/dist-packages (from openai) (2.27.1)\n",
            "Requirement already satisfied: tqdm in /usr/local/lib/python3.10/dist-packages (from openai) (4.65.0)\n",
            "Requirement already satisfied: aiohttp in /usr/local/lib/python3.10/dist-packages (from openai) (3.8.4)\n",
            "Requirement already satisfied: urllib3<1.27,>=1.21.1 in /usr/local/lib/python3.10/dist-packages (from requests>=2.20->openai) (1.26.16)\n",
            "Requirement already satisfied: certifi>=2017.4.17 in /usr/local/lib/python3.10/dist-packages (from requests>=2.20->openai) (2023.5.7)\n",
            "Requirement already satisfied: charset-normalizer~=2.0.0 in /usr/local/lib/python3.10/dist-packages (from requests>=2.20->openai) (2.0.12)\n",
            "Requirement already satisfied: idna<4,>=2.5 in /usr/local/lib/python3.10/dist-packages (from requests>=2.20->openai) (3.4)\n",
            "Requirement already satisfied: attrs>=17.3.0 in /usr/local/lib/python3.10/dist-packages (from aiohttp->openai) (23.1.0)\n",
            "Requirement already satisfied: multidict<7.0,>=4.5 in /usr/local/lib/python3.10/dist-packages (from aiohttp->openai) (6.0.4)\n",
            "Requirement already satisfied: async-timeout<5.0,>=4.0.0a3 in /usr/local/lib/python3.10/dist-packages (from aiohttp->openai) (4.0.2)\n",
            "Requirement already satisfied: yarl<2.0,>=1.0 in /usr/local/lib/python3.10/dist-packages (from aiohttp->openai) (1.9.2)\n",
            "Requirement already satisfied: frozenlist>=1.1.1 in /usr/local/lib/python3.10/dist-packages (from aiohttp->openai) (1.3.3)\n",
            "Requirement already satisfied: aiosignal>=1.1.2 in /usr/local/lib/python3.10/dist-packages (from aiohttp->openai) (1.3.1)\n",
            "Installing collected packages: openai\n",
            "Successfully installed openai-0.27.8\n"
          ]
        }
      ],
      "source": [
        "!pip install PyPDF2\n",
        "!pip install openai"
      ]
    },
    {
      "cell_type": "code",
      "execution_count": null,
      "id": "ba117736",
      "metadata": {
        "id": "ba117736"
      },
      "outputs": [],
      "source": [
        "import requests\n",
        "import PyPDF2\n",
        "import openai"
      ]
    },
    {
      "attachments": {},
      "cell_type": "markdown",
      "id": "g7JklkvptKiZ",
      "metadata": {
        "id": "g7JklkvptKiZ"
      },
      "source": [
        "## 2. Read PDF\n",
        "We will be reading the PDF that is opened and turn them into a string."
      ]
    },
    {
      "cell_type": "code",
      "execution_count": null,
      "id": "6ac07ea8",
      "metadata": {
        "id": "6ac07ea8"
      },
      "outputs": [],
      "source": [
        "# Step 1: Read PDF\n",
        "def read_pdf(file_path):\n",
        "    with open(file_path, 'rb') as file:\n",
        "        # Use a PDF parsing library like PyPDF2 or PDFMiner to extract text from the PDF\n",
        "        # Store the extracted text in a variable, such as a string or a list\n",
        "        # For example, using PyPDF2:\n",
        "        import PyPDF2\n",
        "        reader = PyPDF2.PdfReader(file)\n",
        "        text = ''\n",
        "        for page in range(len(reader.pages)):\n",
        "            text += reader.pages[page].extract_text()\n",
        "        return text\n",
        "\n",
        "# Step 2: Store PDF content\n",
        "pdf_content = read_pdf('ransomware2.pdf')"
      ]
    },
    {
      "cell_type": "code",
      "execution_count": null,
      "id": "bc35331d",
      "metadata": {
        "id": "bc35331d",
        "outputId": "25f3dafa-fa47-46ca-95d8-6c8136af998e"
      },
      "outputs": [
        {
          "name": "stdout",
          "output_type": "stream",
          "text": [
            "1\n",
            "RANSOMWARE DISASTER RESPONSE PLAN TEMPLATE\n",
            "pensar.co.ukRansomware \n",
            "disaster response \n",
            "plan template\n",
            "pensar.co.uk\n",
            "2\n",
            "RANSOMWARE DISASTER RESPONSE PLAN TEMPLATE\n",
            "pensar.co.ukTable of contents\n",
            "Introduction\n",
            "First thing’s first: what is a disaster \n",
            "recovery plan?\n",
            "Preventative measures\n",
            "Your creative agency’s ransomware \n",
            "disaster plan\n",
            "Outsmart an evolving threat 3\n",
            "5\n",
            "6\n",
            "9\n",
            "133\n",
            "RANSOMWARE DISASTER RESPONSE PLAN TEMPLATE\n",
            "pensar.co.ukAh. Ransomware. It’s a nasty sounding malware – one that’s very \n",
            "deserving of its name. \n",
            "In May 2017, a ransomware attack brought the NHS to its knees. \n",
            "Considered to be the largest, most aggressive ransomware case \n",
            "of its kind, the global attack infected over 300,000 computers \n",
            "in 150 countries. The criminals were demanding up to $300 per \n",
            "computer in ransom, and the attack resulted in hospitals having \n",
            "to turn away patients. Definition: Ransomware (Noun)\n",
            "A type of malicious software designed \n",
            "to block access to a computer system \n",
            "until a sum of money is paid.4\n",
            "RANSOMWARE DISASTER RESPONSE PLAN TEMPLATE\n",
            "pensar.co.ukNow, as a creative business, you may question the relevance \n",
            "of a healthcare case study. But, ransomware isn’t isolated to a \n",
            "particular industry or company; successful ransomware attacks \n",
            "hit 33 percent of all organisations. \n",
            "And, unfortunately, these attacks are only growing. In fact, since \n",
            "the beginning of 2019, they’ve grown by 118 percent. To combat \n",
            "this increase, your business should hope for the best, but plan for \n",
            "the worst. \n",
            "In this short guide, we’ll discuss the importance of having a \n",
            "disaster recovery plan in place and why you should embrace the \n",
            "best preventative techniques. We’ll also provide you with a step-\n",
            "by-step ransomware response plan, should an attack ever occur. 5\n",
            "RANSOMWARE DISASTER RESPONSE PLAN TEMPLATE\n",
            "pensar.co.ukA disaster recovery plan (DRP) is a step-by-step guide to \n",
            "minimising the damage a data breach or malware can cause. It \n",
            "involves aligning your recovery action with your key business \n",
            "priorities, helping you to navigate the ‘aftermath’ of any \n",
            "ransomware attack. \n",
            "As J.R.R. Tolkien once said:First thing’s first: what is \n",
            "a disaster recovery plan?\n",
            "‘It does not do to leave a live dragon \n",
            "out of your calculations, if you live near \n",
            "him.’\n",
            "While your DRP may not be as glamorous as donning your armour \n",
            "and riding into battle, it’s still necessary to protect your business \n",
            "with a watertight battle plan. \n",
            "Before you create a detailed plan, be sure to perform a business \n",
            "impact analysis to establish the key areas you need to protect and \n",
            "recover. \n",
            "For a creative business – such as a marketing agency – this might \n",
            "be your client’s contact data. As a result, your DRP should involve \n",
            "data backup and restoration initiatives. 6\n",
            "RANSOMWARE DISASTER RESPONSE PLAN TEMPLATE\n",
            "pensar.co.ukBut, let’s take a step back a moment. Protecting yourself from \n",
            "ransomware works best when you don’t wander into a dragon’s \n",
            "lair in the first place. That’s why you must take preventative \n",
            "measures. \n",
            "When it comes to protecting yourself against ransomware, \n",
            "prevention is better than a cure. While every business should \n",
            "have a solid DRP in place, there are plenty of ways to reduce the \n",
            "possibility of an attack before it happens.\n",
            "Here are five areas for your agency to consider:Preventative measures\n",
            "1. Anti-malware software\n",
            "At its heart, anti-malware prevents, detects and removes \n",
            "malicious software in your IT systems. With 90 percent of UK \n",
            "businesses using anti-malware software, it’s clear that it should \n",
            "act as an essential element of your disaster prevention plan. \n",
            "However, while anti-malware is an effective way to protect your \n",
            "business against ransomware, due to the growing sophistication \n",
            "of cyber attacks it is no longer a ‘fix all’ solution. In fact, experts \n",
            "now advise a protection strategy that is both multi-layered and \n",
            "tailored to your business needs.7\n",
            "RANSOMWARE DISASTER RESPONSE PLAN TEMPLATE\n",
            "pensar.co.uk2. Training employees in cyber security\n",
            "While you could invest every penny in the latest technology on \n",
            "offer, if you lack proper cyber security training, your business will \n",
            "always be vulnerable to ransomware. \n",
            "As it stands, only one in five businesses invest in cyber security \n",
            "training. This, of course, means that four in every five companies \n",
            "are left vulnerable to ransomware attacks – many of which are \n",
            "caused (albeit accidentally) by your own employees . \n",
            "Though you might not consider yourselves techies, frequent, up-\n",
            "to-date training is essential for keeping your agency safe. More \n",
            "than that, it can also create an atmosphere where employees can \n",
            "speak up and report suspicious activity. \n",
            "Better still, modest investments in cyber security awareness and \n",
            "training has a 72 percent chance of significantly reducing the \n",
            "business impact of a cyber attack. That’s pretty preventative, if \n",
            "you ask us.\n",
            "3. Use firewalls\n",
            "With 43 percent of UK businesses using them, firewalls are one of \n",
            "the oldest forms of IT security around. They work by creating a \n",
            "filter between your private files and the internet, helping to keep \n",
            "your sensitive data out of the wrong hands.8\n",
            "RANSOMWARE DISASTER RESPONSE PLAN TEMPLATE\n",
            "pensar.co.uk4. Back-up your data regularly\n",
            "One of the ways ransomware differs from other cyber attacks, \n",
            "is that the criminals hold your data hostage in order to secure a \n",
            "ransom (often in the form of cryptocurrencies). Unfortunately, \n",
            "even after paying this ransom, your agency isn’t guaranteed to get \n",
            "your data or creative work back. \n",
            "So, the best way to ensure you do not lose previous data is to run \n",
            "regular backups. By performing frequenting data backups, you \n",
            "keep the upper hand. After all, they can’t extort you if you haven’t \n",
            "lost anything.  \n",
            "5. Ensure you use strong passwords\n",
            "LinkedIn once suffered a catastrophic data breach. The cause? \n",
            "Pathetic passwords. In fact, almost 800,000 members of the \n",
            "social media platform were using the password, ‘123456’. (Yes, \n",
            "really.)\n",
            "If your team is predominantly non-techy, the chances are their \n",
            "passwords might not be the strongest. \n",
            "But, unfortunately, hacked passwords cause 81 percent of all \n",
            "data breaches and can be the gateway for ransomware attacks. \n",
            "In order to keep your creative work, employees and clients safe, \n",
            "consider using a password manager or invest in software that \n",
            "boasts multi-factor authentication. 9\n",
            "RANSOMWARE DISASTER RESPONSE PLAN TEMPLATE\n",
            "pensar.co.ukWith ransomware attacks becoming more and more \n",
            "sophisticated, even the strongest prevention plan could fall \n",
            "through. \n",
            "But, don’t panic. We’ve created a clear-cut ransomware disaster \n",
            "plan for your creative business. Your creative agency’s \n",
            "ransomware disaster plan\n",
            "So, your agency’s data is being held ransom. What should you do \n",
            "post-discovery? \n",
            "1.  Do not pay the ransom\n",
            "Put your wallet back in your pocket. Attackers will try to take \n",
            "your data hostage in exchange for money, but don’t take the bait. \n",
            "Remember, you’re dealing with criminals; don’t negotiate with \n",
            "terrorists. \n",
            "2. Contact your IT team or external IT partner\n",
            "Any IT partner worth their salt will have an effective strategy for \n",
            "dealing with ransomware. They should be your first port of call \n",
            "when you’re under attack, so once you’ve discover the malware, \n",
            "contact them immediately. Phase 1: Discovery10\n",
            "RANSOMWARE DISASTER RESPONSE PLAN TEMPLATE\n",
            "pensar.co.ukWorking with a trusted partner greatly decreases the steps \n",
            "your agency will have to take to prevent an IT disaster. Indeed, \n",
            "outsourcing your cyber defence to a team of experts can be the \n",
            "difference between an attack being a mere inconvenience or a \n",
            "devastating blow to your business. \n",
            "3. Report a breach\n",
            "If the ransomware has taken sensitive data, such as your client’s \n",
            "personal information or their customers’ details, you must first \n",
            "assess the damage and severity of the incident. If you feel as \n",
            "though it poses a risk, you must report the breach to the ICO . \n",
            "Under the GDPR , this is crucial for ensuring the right legal steps \n",
            "are taken to help protect your data subjects. 11\n",
            "RANSOMWARE DISASTER RESPONSE PLAN TEMPLATE\n",
            "pensar.co.ukNext, you’ll want to isolate the malware.\n",
            "1. Disconnect all infected hardware\n",
            "Prevent the attack from spreading by disconnecting all infected \n",
            "hardware. This will help to minimise the damage and prevent the \n",
            "hackers from taking any more of your data hostage. \n",
            "2. Run security scans\n",
            "Using your anti-malware software, run a security scan to find the \n",
            "source of the ransomware.Phase 2: Isolation\n",
            "You’ve found the bug in your system – now it’s time to send in the \n",
            "extermination team. \n",
            "1. Delete the malware\n",
            "Once located, delete the virus. (Good riddance!)\n",
            "2. Document the attack\n",
            "Throughout the attack, someone in your company (or your IT \n",
            "partner) should document every occurrence. Once everything is \n",
            "under control, you can share these notes with the appropriate \n",
            "authorities and the police. Phase 3: Destruction and documentation 12\n",
            "RANSOMWARE DISASTER RESPONSE PLAN TEMPLATE\n",
            "pensar.co.ukAll being well, this should hopefully lead to the attackers facing \n",
            "justice and your business keeping its reputation intact. You can \n",
            "demonstrate how you fixed the incident and how you plan to \n",
            "prevent something similar happening again. This means that both \n",
            "your clients and employees maintain complete confidence in the \n",
            "security of your agency. \n",
            "Next, focus on getting your business back on its feet. \n",
            "1. Reinstate data\n",
            "Hopefully, you will have backed up your data safely out of reach \n",
            "from the ransomware criminals’ grasp. If so, reinstate your last \n",
            "backup onto clean machines. Your business should be back in \n",
            "working order.Phase 4: Recovery13\n",
            "RANSOMWARE DISASTER RESPONSE PLAN TEMPLATE\n",
            "pensar.co.ukRansomware is yet another threat that your business must \n",
            "anticipate. As a digitally focused creative business, your \n",
            "employees likely work from computers or portable devices \n",
            "throughout the working week. \n",
            "And that makes you a target.\n",
            "With new strains of ransomware appearing frequently, it’s \n",
            "doubtful experts will ever find a complete solution to deter cyber \n",
            "criminals. That’s why you shouldn’t stop at purchasing anti-\n",
            "malware. In order to keep your crucial data safe, you must create \n",
            "a strong, multi-layered prevention and disaster plan.\n",
            "While all this may sound a little scary, particularly to those of you \n",
            "who don’t have a dedicated or substantial IT, keep a cool head. \n",
            "If you lack the in-house expertise at your agency, find a trusted IT \n",
            "partner who will ensure your data is kept out of the wrong hands.\n",
            "So, are you in the market for peace of mind? Check out what \n",
            "Pensar could do for you. Outsmart an evolving \n",
            "threat \n"
          ]
        }
      ],
      "source": [
        "print(pdf_content)"
      ]
    },
    {
      "attachments": {},
      "cell_type": "markdown",
      "id": "d4277e4e",
      "metadata": {
        "id": "d4277e4e"
      },
      "source": [
        "## 3. Prompt Function\n",
        "We will create a function to generate the evaluation."
      ]
    },
    {
      "cell_type": "code",
      "execution_count": null,
      "id": "a9c4b71f",
      "metadata": {
        "id": "a9c4b71f"
      },
      "outputs": [],
      "source": [
        "openai.api_key = ''"
      ]
    },
    {
      "cell_type": "code",
      "execution_count": null,
      "id": "e8deaa51",
      "metadata": {
        "id": "e8deaa51"
      },
      "outputs": [],
      "source": [
        "# Generate improvement suggestions using OpenAI GPT-3\n",
        "def evaluate(content, answer, question):\n",
        "    prompt = \"Based on this context:\" + content + \"For the question of: \" + question + \" and wtih this answer given\" + answer + \"Please rate from 1-10, say what went well and what can be improved.\"\n",
        "\n",
        "    response = openai.Completion.create(\n",
        "        engine='text-davinci-003',\n",
        "        prompt=prompt,\n",
        "        temperature=0.7,\n",
        "        max_tokens=100,\n",
        "        n=3,  # Number of suggestions to generate\n",
        "        stop=None\n",
        "    )\n",
        "\n",
        "    suggestions = [choice['text'].strip() for choice in response.choices]\n",
        "    return suggestions"
      ]
    },
    {
      "cell_type": "code",
      "execution_count": null,
      "id": "k-rE0Bt_xDBu",
      "metadata": {
        "id": "k-rE0Bt_xDBu"
      },
      "outputs": [],
      "source": [
        "# Generate improvement suggestions using OpenAI GPT-3\n",
        "def final_evaluate(ans):\n",
        "    prompt = \"Based on all these answers:\" + ans + \"Please rate from 1-10 the overall performance, summarise what went well and what can be improved.\"\n",
        "\n",
        "    response = openai.Completion.create(\n",
        "        engine='text-davinci-003',\n",
        "        prompt=prompt,\n",
        "        temperature=0.7,\n",
        "        max_tokens=100,\n",
        "        n=3,  # Number of suggestions to generate\n",
        "        stop=None\n",
        "    )\n",
        "\n",
        "    suggestions = [choice['text'].strip() for choice in response.choices]\n",
        "    return suggestions"
      ]
    },
    {
      "attachments": {},
      "cell_type": "markdown",
      "id": "26ffc221",
      "metadata": {
        "id": "26ffc221"
      },
      "source": [
        "Sample Generator"
      ]
    },
    {
      "cell_type": "code",
      "execution_count": null,
      "id": "5a31ac84",
      "metadata": {
        "id": "5a31ac84"
      },
      "outputs": [],
      "source": [
        "res = generate_suggestions(pdf_content, ans)\n",
        "print(res)"
      ]
    },
    {
      "attachments": {},
      "cell_type": "markdown",
      "id": "eb371fc1",
      "metadata": {
        "id": "eb371fc1"
      },
      "source": [
        "## 4. Table-Top Exercise\n",
        "Scenario:\n",
        "You are in a fully digital bank with many critical services that customers depend on in your systems. There are several functions that are deemed critical and have a short RTO.\n",
        "\n",
        "Management has evaluated that prolong downtime, especially if it is over the RTO has detrimental effect on the company.\n",
        "\n",
        "Since this is a rapidly growing startup, products and functions are required to be developed quickly and scaled, thus there were some tiny shortcuts here and there."
      ]
    },
    {
      "attachments": {},
      "cell_type": "markdown",
      "id": "90cca1ca",
      "metadata": {
        "id": "90cca1ca"
      },
      "source": [
        "### Inject 1\n",
        "You went in to look into your servers and realised they became sluggish.\n",
        "\n",
        "**Question:** *What should you do?*"
      ]
    },
    {
      "cell_type": "code",
      "execution_count": null,
      "id": "85c17a8b",
      "metadata": {
        "id": "85c17a8b",
        "outputId": "cfe35113-db79-4e37-e148-4340354e9908"
      },
      "outputs": [
        {
          "name": "stdout",
          "output_type": "stream",
          "text": [
            "Your servers become sluggish. What should you do?I should look into the system to find out what is wrong.\n"
          ]
        }
      ],
      "source": [
        "# Create input to fill in answer\n",
        "question1 = \"Your servers become sluggish. What should you do?\"\n",
        "ans1 = input(\"Your servers become sluggish. What should you do?\")"
      ]
    },
    {
      "cell_type": "code",
      "execution_count": null,
      "id": "3a7cabfc",
      "metadata": {
        "id": "3a7cabfc",
        "outputId": "1c261555-fab5-4352-f803-5854353f3dc7"
      },
      "outputs": [
        {
          "name": "stdout",
          "output_type": "stream",
          "text": [
            "7 - The answer given indicates that the person understands the context of the question, but it does not provide a complete answer. It is important to ensure that the entire problem is understood and that the correct steps are taken to address it. What went well is that the person identified that they need to investigate the system to figure out what is wrong. What can be improved is that the person should provide a more complete answer that explains all of the steps that they need to take to address the issue\n"
          ]
        }
      ],
      "source": [
        "# Generate results using the PDF extract and the answer given\n",
        "res = evaluate(pdf_content, ans1, question1)"
      ]
    },
    {
      "cell_type": "code",
      "execution_count": null,
      "id": "9abda8d7",
      "metadata": {
        "id": "9abda8d7",
        "outputId": "891623a6-31dd-4e0d-fa95-a3075bf6fd18"
      },
      "outputs": [
        {
          "name": "stdout",
          "output_type": "stream",
          "text": [
            "7 - The answer given indicates that the person understands the context of the question, but it does not provide a complete answer. It is important to ensure that the entire problem is understood and that the correct steps are taken to address it. What went well is that the person identified that they need to investigate the system to figure out what is wrong. What can be improved is that the person should provide a more complete answer that explains all of the steps that they need to take to address the issue\n",
            "\n",
            "\n",
            "This answer is satisfactory, rating a 5/10. What went well is that the answer provided a suggestion for what to do. What can be improved is providing more detail in the answer, such as what steps to take to look into the system and what might be causing the sluggishness.\n",
            "\n",
            "\n",
            "This answer is satisfactory and it shows that you understand the context of the question. You understand that the problem could be caused by a ransomware attack and that the best course of action would be to look into the system and find out what is wrong.\n",
            "\n",
            "What went well: You provided a satisfactory answer that showed understanding of the context.\n",
            "What can be improved: You could have gone into greater detail in your answer, such as outlining the steps you would take to troubleshoot the system\n",
            "\n",
            "\n"
          ]
        }
      ],
      "source": [
        "# Display them nicely\n",
        "for i in res:\n",
        "    print(i)\n",
        "    print(\"\\n\")"
      ]
    },
    {
      "attachments": {},
      "cell_type": "markdown",
      "id": "ab6a1b16",
      "metadata": {
        "id": "ab6a1b16"
      },
      "source": [
        "## Inject 2\n",
        "Server is completely down and while looking at the system, IT team discovers a ransom note.\n",
        "\n",
        "**Question:** *What should you do?*"
      ]
    },
    {
      "cell_type": "code",
      "execution_count": null,
      "id": "6d57174d",
      "metadata": {
        "id": "6d57174d",
        "outputId": "5e009ef4-3791-4957-f30f-25b189381303"
      },
      "outputs": [
        {
          "name": "stdout",
          "output_type": "stream",
          "text": [
            "Server is completely down and IT team discovers a ransom note. What should you do?Report this to the relevant teams and ensure that a ticket is logged.\n"
          ]
        }
      ],
      "source": [
        "# Create input to fill in answer\n",
        "question2 = \"Server is completely down and IT team discovers a ransom note. What should you do?\"\n",
        "ans2 = input(question2)"
      ]
    },
    {
      "cell_type": "code",
      "execution_count": null,
      "id": "369ec1e1",
      "metadata": {
        "id": "369ec1e1"
      },
      "outputs": [],
      "source": [
        "# Generate results\n",
        "res2 = evaluate(pdf_content, ans2, question2)"
      ]
    },
    {
      "cell_type": "code",
      "execution_count": null,
      "id": "7cc4c901",
      "metadata": {
        "id": "7cc4c901",
        "outputId": "6caf9004-7a59-4739-ac1b-d10a7f9d6091"
      },
      "outputs": [
        {
          "name": "stdout",
          "output_type": "stream",
          "text": [
            "I would rate this answer 8/10. The answer given is clear and concise and covers the main steps that should be taken in the event of a ransom note being found. However, it could be improved by adding more detail on specific steps that should be taken to ensure the ransomware is removed and data is backed up.\n",
            "\n",
            "\n",
            "I would rate this answer an 8/10. What went well is that the answer was clear and concise, and it provided a good overview of what to do. What could be improved is providing more detail on what the teams should do, such as what steps to take to report the breach and how to log the ticket.\n",
            "\n",
            "\n",
            "I would rate this answer an 8. The answer provided gives a detailed explanation of what steps should be taken when a ransomware attack has been discovered. It is clear, concise and gives sound advice on how to proceed. The only room for improvement would be to add a bit more detail on how to report the breach to the relevant authorities and how to log the ticket.\n",
            "\n",
            "\n"
          ]
        }
      ],
      "source": [
        "# Display them nicely\n",
        "for i in res2:\n",
        "    print(i)\n",
        "    print(\"\\n\")"
      ]
    },
    {
      "attachments": {},
      "cell_type": "markdown",
      "id": "2e1d3f36",
      "metadata": {
        "id": "2e1d3f36"
      },
      "source": [
        "## Inject 3\n",
        "As the IT personnel, you are tasked to remedy the situation.\n",
        "\n",
        "**Question:** *What should you do to remedy the ransomware attack?*"
      ]
    },
    {
      "cell_type": "code",
      "execution_count": null,
      "id": "abdcdc96",
      "metadata": {
        "id": "abdcdc96",
        "outputId": "e603f928-831c-490c-8fab-6570a3faefeb"
      },
      "outputs": [
        {
          "name": "stdout",
          "output_type": "stream",
          "text": [
            "If you are the IT personnel, what should you do when you discover a ransomware attack?I will find the infected device, isolate them and do a antivirus scan to ensure that all traces of the malware is removed.\n"
          ]
        }
      ],
      "source": [
        "# Create input to fill in answer\n",
        "question3 = \"If you are the IT personnel, what should you do to remedy the ransomware attack?\"\n",
        "ans3 = input(question3)"
      ]
    },
    {
      "cell_type": "code",
      "execution_count": null,
      "id": "86f90869",
      "metadata": {
        "id": "86f90869"
      },
      "outputs": [],
      "source": [
        "# Generate results\n",
        "res3 = evaluate(pdf_content, ans3, question3)"
      ]
    },
    {
      "cell_type": "code",
      "execution_count": null,
      "id": "4b72cc69",
      "metadata": {
        "id": "4b72cc69",
        "outputId": "b01dae64-e0f5-455b-eb20-ead9079f4ce6"
      },
      "outputs": [
        {
          "name": "stdout",
          "output_type": "stream",
          "text": [
            "This answer is okay, but could be improved. What went well is that the IT personnel recognizes the need to isolate the infected device and run an antivirus scan. However, this answer could be improved by also mentioning the need to report the breach to the ICO, delete the malware and document the attack.\n",
            "\n",
            "I would rate this answer a 7/10.\n",
            "\n",
            "\n",
            "This answer is a good start, but it could be improved by providing more detail on the steps to take when discovering a ransomware attack. For example, it could include steps such as contacting the IT team or external IT partner, running security scans, deleting the malware, documenting the attack, and reinstating data. I would rate this answer 7/10.\n",
            "\n",
            "\n",
            "This answer was good overall, but could be improved by providing more detail. For example, the answer could include steps such as: 1) Disconnect all infected hardware; 2) Run security scans to find the source of the ransomware; 3) Delete the malware; 4) Document the attack; 5) Reinstate data. This would provide a more comprehensive answer to the question and help provide clarity on the steps to take.\n",
            "\n",
            "Overall rating: 9/10\n",
            "\n",
            "\n"
          ]
        }
      ],
      "source": [
        "# Display them nicely\n",
        "for i in res3:\n",
        "    print(i)\n",
        "    print(\"\\n\")"
      ]
    },
    {
      "attachments": {},
      "cell_type": "markdown",
      "id": "tcaXPMUsvvyG",
      "metadata": {
        "id": "tcaXPMUsvvyG"
      },
      "source": [
        "### Inject 4\n",
        "IT team has fixed the issue and are currently restoring the data back to server.\n",
        "\n",
        "**Question:** *What should you do next in preperation for the site to be live?*"
      ]
    },
    {
      "cell_type": "code",
      "execution_count": null,
      "id": "428c5662",
      "metadata": {
        "id": "428c5662"
      },
      "outputs": [],
      "source": [
        "# Create input to fill in answer\n",
        "question4 = \"System is patched and currently restoring the backup, what should you do next in preperation for the site to be live?\"\n",
        "ans4 = input(question3)"
      ]
    },
    {
      "cell_type": "code",
      "execution_count": null,
      "id": "XUXNg_0mwhNn",
      "metadata": {
        "id": "XUXNg_0mwhNn"
      },
      "outputs": [],
      "source": [
        "# Generate results\n",
        "res4 = evaluate(pdf_content, ans4, question4)"
      ]
    },
    {
      "cell_type": "code",
      "execution_count": null,
      "id": "n88RKjavwvzQ",
      "metadata": {
        "id": "n88RKjavwvzQ"
      },
      "outputs": [],
      "source": [
        "# Display them nicely\n",
        "for i in res4:\n",
        "    print(i)\n",
        "    print(\"\\n\")"
      ]
    },
    {
      "attachments": {},
      "cell_type": "markdown",
      "id": "FsQcyXG6wySF",
      "metadata": {
        "id": "FsQcyXG6wySF"
      },
      "source": [
        "### Final Evaluation\n",
        "We will be evaluating all the response and give a feedback"
      ]
    },
    {
      "cell_type": "code",
      "execution_count": null,
      "id": "siTt00SAw-qR",
      "metadata": {
        "id": "siTt00SAw-qR"
      },
      "outputs": [],
      "source": [
        "# Generate final results\n",
        "ans_final = \"Based on the following evaluation, give a rating and give an overall comment of the user's performance:\\n\" + res1 + \"\\n\" +  res2 + \"\\n\" + res3 + \"\\n\" + res4\n",
        "res_final = final_evaluate(ans)"
      ]
    },
    {
      "cell_type": "code",
      "execution_count": null,
      "id": "U-PRfVXVxkHQ",
      "metadata": {
        "id": "U-PRfVXVxkHQ"
      },
      "outputs": [],
      "source": [
        "# Display them nicely\n",
        "for i in res_final:\n",
        "    print(i)\n",
        "    print(\"\\n\")"
      ]
    }
  ],
  "metadata": {
    "colab": {
      "provenance": []
    },
    "kernelspec": {
      "display_name": "Python 3 (ipykernel)",
      "language": "python",
      "name": "python3"
    },
    "language_info": {
      "codemirror_mode": {
        "name": "ipython",
        "version": 3
      },
      "file_extension": ".py",
      "mimetype": "text/x-python",
      "name": "python",
      "nbconvert_exporter": "python",
      "pygments_lexer": "ipython3",
      "version": "3.10.9"
    }
  },
  "nbformat": 4,
  "nbformat_minor": 5
}
